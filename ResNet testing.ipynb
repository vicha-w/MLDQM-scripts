{
 "cells": [
  {
   "cell_type": "code",
   "execution_count": 66,
   "id": "cordless-documentary",
   "metadata": {},
   "outputs": [],
   "source": [
    "from tensorflow import Tensor\n",
    "from keras.layers import Input, Dense, Conv2D, ReLU, Reshape, UpSampling2D, Add\n",
    "from keras.models import Model\n",
    "import root_numpy\n",
    "import numpy as np\n",
    "import sklearn.preprocessing\n",
    "import skimage.measure\n",
    "import matplotlib.pyplot as plt"
   ]
  },
  {
   "cell_type": "markdown",
   "id": "subjective-thousand",
   "metadata": {},
   "source": [
    "Residual block code, including encoding and decoding."
   ]
  },
  {
   "cell_type": "code",
   "execution_count": 40,
   "id": "initial-senator",
   "metadata": {},
   "outputs": [],
   "source": [
    "def residual_block_enc(x, filter_number, kernel_size, strides):\n",
    "    y = Conv2D(filter_number, kernel_size, padding=\"valid\", strides=strides)(x)\n",
    "    y = ReLU()(y)\n",
    "    y = Conv2D(filter_number, kernel_size, padding=\"same\")(y)\n",
    "    \n",
    "    x = Conv2D(filter_number, kernel_size, padding=\"valid\", strides=strides)(x)\n",
    "    \n",
    "    out = Add()([x, y])\n",
    "    return out\n",
    "\n",
    "def residual_block_dec(x, filter_number, kernel_size, upsampling_kernel):\n",
    "    y = UpSampling2D(upsampling_kernel, interpolation=\"bilinear\")(x)\n",
    "    y = Conv2D(filter_number, kernel_size, padding=\"same\")(y)\n",
    "    y = ReLU()(y)\n",
    "    y = Conv2D(filter_number, kernel_size, padding=\"same\")(y)\n",
    "    \n",
    "    x = UpSampling2D(upsampling_kernel, interpolation=\"bilinear\")(x)\n",
    "    x = Conv2D(filter_number, kernel_size, padding=\"same\")(x)\n",
    "    \n",
    "    out = Add()([x, y])\n",
    "    return out"
   ]
  },
  {
   "cell_type": "markdown",
   "id": "aggregate-cannon",
   "metadata": {},
   "source": [
    "Base model. For the first trial I wanted to make a small architecture, similar to the old autoencoder."
   ]
  },
  {
   "cell_type": "code",
   "execution_count": 44,
   "id": "finite-certification",
   "metadata": {},
   "outputs": [],
   "source": [
    "input_shape = (40, 28, 1)\n",
    "def base_model():\n",
    "    input_layer = Input(shape=input_shape)\n",
    "    resnet_layer = residual_block_enc(input_layer, 60, (4, 4), 4)\n",
    "    resnet_layer = residual_block_enc(resnet_layer, 60, (5, 1), (5, 1))\n",
    "    \n",
    "    resnet_layer = residual_block_dec(resnet_layer, 60, (3, 3), (5, 1))\n",
    "    resnet_layer = residual_block_dec(resnet_layer, 1, (4, 4), (4, 4))\n",
    "    \n",
    "    resnet_model = Model(inputs = [input_layer], outputs = [resnet_layer])\n",
    "    resnet_model.compile(loss = \"mse\", optimizer=\"adadelta\")\n",
    "    return resnet_model"
   ]
  },
  {
   "cell_type": "code",
   "execution_count": 45,
   "id": "established-belize",
   "metadata": {},
   "outputs": [],
   "source": [
    "model1 = base_model()"
   ]
  },
  {
   "cell_type": "code",
   "execution_count": 46,
   "id": "finite-provincial",
   "metadata": {},
   "outputs": [
    {
     "name": "stdout",
     "output_type": "stream",
     "text": [
      "__________________________________________________________________________________________________\n",
      "Layer (type)                    Output Shape         Param #     Connected to                     \n",
      "==================================================================================================\n",
      "input_11 (InputLayer)           (None, 40, 28, 1)    0                                            \n",
      "__________________________________________________________________________________________________\n",
      "conv2d_32 (Conv2D)              (None, 10, 7, 60)    1020        input_11[0][0]                   \n",
      "__________________________________________________________________________________________________\n",
      "re_lu_8 (ReLU)                  (None, 10, 7, 60)    0           conv2d_32[0][0]                  \n",
      "__________________________________________________________________________________________________\n",
      "conv2d_34 (Conv2D)              (None, 10, 7, 60)    1020        input_11[0][0]                   \n",
      "__________________________________________________________________________________________________\n",
      "conv2d_33 (Conv2D)              (None, 10, 7, 60)    57660       re_lu_8[0][0]                    \n",
      "__________________________________________________________________________________________________\n",
      "add_5 (Add)                     (None, 10, 7, 60)    0           conv2d_34[0][0]                  \n",
      "                                                                 conv2d_33[0][0]                  \n",
      "__________________________________________________________________________________________________\n",
      "conv2d_35 (Conv2D)              (None, 2, 7, 60)     18060       add_5[0][0]                      \n",
      "__________________________________________________________________________________________________\n",
      "re_lu_9 (ReLU)                  (None, 2, 7, 60)     0           conv2d_35[0][0]                  \n",
      "__________________________________________________________________________________________________\n",
      "conv2d_37 (Conv2D)              (None, 2, 7, 60)     18060       add_5[0][0]                      \n",
      "__________________________________________________________________________________________________\n",
      "conv2d_36 (Conv2D)              (None, 2, 7, 60)     18060       re_lu_9[0][0]                    \n",
      "__________________________________________________________________________________________________\n",
      "add_6 (Add)                     (None, 2, 7, 60)     0           conv2d_37[0][0]                  \n",
      "                                                                 conv2d_36[0][0]                  \n",
      "__________________________________________________________________________________________________\n",
      "up_sampling2d_9 (UpSampling2D)  (None, 10, 7, 60)    0           add_6[0][0]                      \n",
      "__________________________________________________________________________________________________\n",
      "conv2d_38 (Conv2D)              (None, 10, 7, 60)    32460       up_sampling2d_9[0][0]            \n",
      "__________________________________________________________________________________________________\n",
      "up_sampling2d_10 (UpSampling2D) (None, 10, 7, 60)    0           add_6[0][0]                      \n",
      "__________________________________________________________________________________________________\n",
      "re_lu_10 (ReLU)                 (None, 10, 7, 60)    0           conv2d_38[0][0]                  \n",
      "__________________________________________________________________________________________________\n",
      "conv2d_40 (Conv2D)              (None, 10, 7, 60)    32460       up_sampling2d_10[0][0]           \n",
      "__________________________________________________________________________________________________\n",
      "conv2d_39 (Conv2D)              (None, 10, 7, 60)    32460       re_lu_10[0][0]                   \n",
      "__________________________________________________________________________________________________\n",
      "add_7 (Add)                     (None, 10, 7, 60)    0           conv2d_40[0][0]                  \n",
      "                                                                 conv2d_39[0][0]                  \n",
      "__________________________________________________________________________________________________\n",
      "up_sampling2d_11 (UpSampling2D) (None, 40, 28, 60)   0           add_7[0][0]                      \n",
      "__________________________________________________________________________________________________\n",
      "conv2d_41 (Conv2D)              (None, 40, 28, 1)    961         up_sampling2d_11[0][0]           \n",
      "__________________________________________________________________________________________________\n",
      "up_sampling2d_12 (UpSampling2D) (None, 40, 28, 60)   0           add_7[0][0]                      \n",
      "__________________________________________________________________________________________________\n",
      "re_lu_11 (ReLU)                 (None, 40, 28, 1)    0           conv2d_41[0][0]                  \n",
      "__________________________________________________________________________________________________\n",
      "conv2d_43 (Conv2D)              (None, 40, 28, 1)    961         up_sampling2d_12[0][0]           \n",
      "__________________________________________________________________________________________________\n",
      "conv2d_42 (Conv2D)              (None, 40, 28, 1)    17          re_lu_11[0][0]                   \n",
      "__________________________________________________________________________________________________\n",
      "add_8 (Add)                     (None, 40, 28, 1)    0           conv2d_43[0][0]                  \n",
      "                                                                 conv2d_42[0][0]                  \n",
      "==================================================================================================\n",
      "Total params: 213,199\n",
      "Trainable params: 213,199\n",
      "Non-trainable params: 0\n",
      "__________________________________________________________________________________________________\n"
     ]
    }
   ],
   "source": [
    "model1.summary()"
   ]
  },
  {
   "cell_type": "markdown",
   "id": "flexible-consumption",
   "metadata": {},
   "source": [
    "Small set of training data. I tried training with Minsky, but it seems that there is an out-of-memory issue on all Minsky machines. (╯°□°）╯︵ ┻━┻"
   ]
  },
  {
   "cell_type": "code",
   "execution_count": 61,
   "id": "senior-enlargement",
   "metadata": {},
   "outputs": [],
   "source": [
    "Bchain_zphi1 = root_numpy.root2array(\"/eos/user/v/vwachira/Pixel2D/ZeroBias_2017B_DataFrame_2D_1.root\", \"lumisections\", \"hist_zphi1\", \"isGoodLumi==1\")\n",
    "Bchain_zphi1 = np.reshape(Bchain_zphi1, (-1, 202, 302))\n",
    "Bchain_zphi1_2D = np.reshape(Bchain_zphi1, (-1, 202, 302))[:, 1:201, 80:220]\n",
    "Bchain_zphi1_2D = Bchain_zphi1_2D[np.sum(np.sum(Bchain_zphi1_2D != 0, 1), 1) != 1]\n",
    "Bchain_zphi1_2D = Bchain_zphi1_2D[np.sum(np.reshape(Bchain_zphi1_2D != 0, (-1, 200*140)), axis=1) > 20000]\n",
    "Bchain_zphi1_2D = np.reshape(Bchain_zphi1_2D, (-1, 200*140))\n",
    "Bchain_zphi1_2D = sklearn.preprocessing.normalize(Bchain_zphi1_2D, norm=\"max\")\n",
    "Bchain_zphi1_2D = np.reshape(Bchain_zphi1_2D, (-1, 200, 140, 1))\n",
    "Bchain_zphi1_2D = skimage.measure.block_reduce(Bchain_zphi1_2D, block_size=(1, 5, 5, 1), func=np.mean)"
   ]
  },
  {
   "cell_type": "code",
   "execution_count": 62,
   "id": "chief-trail",
   "metadata": {},
   "outputs": [
    {
     "data": {
      "text/plain": [
       "(531, 40, 28, 1)"
      ]
     },
     "execution_count": 62,
     "metadata": {},
     "output_type": "execute_result"
    }
   ],
   "source": [
    "Bchain_zphi1_2D.shape"
   ]
  },
  {
   "cell_type": "markdown",
   "id": "handed-suggestion",
   "metadata": {},
   "source": [
    "Training on SWAN is considerably much slower."
   ]
  },
  {
   "cell_type": "code",
   "execution_count": 63,
   "id": "funny-island",
   "metadata": {},
   "outputs": [
    {
     "name": "stderr",
     "output_type": "stream",
     "text": [
      "W0430 12:26:50.857150 139909261457216 deprecation_wrapper.py:119] From /cvmfs/sft.cern.ch/lcg/views/LCG_97apython3/x86_64-centos7-gcc8-opt/lib/python3.7/site-packages/keras/backend/tensorflow_backend.py:986: The name tf.assign_add is deprecated. Please use tf.compat.v1.assign_add instead.\n",
      "\n",
      "W0430 12:26:50.867201 139909261457216 deprecation_wrapper.py:119] From /cvmfs/sft.cern.ch/lcg/views/LCG_97apython3/x86_64-centos7-gcc8-opt/lib/python3.7/site-packages/keras/backend/tensorflow_backend.py:973: The name tf.assign is deprecated. Please use tf.compat.v1.assign instead.\n",
      "\n"
     ]
    },
    {
     "name": "stdout",
     "output_type": "stream",
     "text": [
      "Epoch 1/100\n",
      "531/531 [==============================] - 8s 15ms/step - loss: 0.0336\n",
      "Epoch 2/100\n",
      "531/531 [==============================] - 7s 12ms/step - loss: 0.0043\n",
      "Epoch 3/100\n",
      "531/531 [==============================] - 7s 13ms/step - loss: 0.0054\n",
      "Epoch 4/100\n",
      "531/531 [==============================] - 7s 13ms/step - loss: 0.0042\n",
      "Epoch 5/100\n",
      "531/531 [==============================] - 7s 13ms/step - loss: 0.0050\n",
      "Epoch 6/100\n",
      "531/531 [==============================] - 7s 13ms/step - loss: 0.0047\n",
      "Epoch 7/100\n",
      "531/531 [==============================] - 7s 13ms/step - loss: 0.0050\n",
      "Epoch 8/100\n",
      "531/531 [==============================] - 7s 12ms/step - loss: 0.0048\n",
      "Epoch 9/100\n",
      "531/531 [==============================] - 7s 13ms/step - loss: 0.0047\n",
      "Epoch 10/100\n",
      "531/531 [==============================] - 7s 12ms/step - loss: 0.0046\n",
      "Epoch 11/100\n",
      "531/531 [==============================] - 7s 12ms/step - loss: 0.0046\n",
      "Epoch 12/100\n",
      "531/531 [==============================] - 7s 12ms/step - loss: 0.0047\n",
      "Epoch 13/100\n",
      "531/531 [==============================] - 7s 13ms/step - loss: 0.0046\n",
      "Epoch 14/100\n",
      "531/531 [==============================] - 7s 12ms/step - loss: 0.0051\n",
      "Epoch 15/100\n",
      "531/531 [==============================] - 7s 12ms/step - loss: 0.0046\n",
      "Epoch 16/100\n",
      "531/531 [==============================] - 7s 13ms/step - loss: 0.0043\n",
      "Epoch 17/100\n",
      "531/531 [==============================] - 7s 12ms/step - loss: 0.0047\n",
      "Epoch 18/100\n",
      "531/531 [==============================] - 7s 12ms/step - loss: 0.0055\n",
      "Epoch 19/100\n",
      "531/531 [==============================] - 7s 12ms/step - loss: 0.0058\n",
      "Epoch 20/100\n",
      "531/531 [==============================] - 7s 12ms/step - loss: 0.0075\n",
      "Epoch 21/100\n",
      "531/531 [==============================] - 7s 13ms/step - loss: 6364197141.1259\n",
      "Epoch 22/100\n",
      "531/531 [==============================] - 7s 13ms/step - loss: 167983956.7747\n",
      "Epoch 23/100\n",
      "531/531 [==============================] - 7s 12ms/step - loss: 40057.5150\n",
      "Epoch 24/100\n",
      "531/531 [==============================] - 7s 12ms/step - loss: 10187.0404\n",
      "Epoch 25/100\n",
      "531/531 [==============================] - 7s 12ms/step - loss: 7148.6999\n",
      "Epoch 26/100\n",
      "531/531 [==============================] - 6s 11ms/step - loss: 6428.3077\n",
      "Epoch 27/100\n",
      "531/531 [==============================] - 6s 12ms/step - loss: 5949.3019\n",
      "Epoch 28/100\n",
      "531/531 [==============================] - 7s 12ms/step - loss: 73700.4378\n",
      "Epoch 29/100\n",
      "531/531 [==============================] - 6s 11ms/step - loss: 125188.2449\n",
      "Epoch 30/100\n",
      "531/531 [==============================] - 6s 10ms/step - loss: 106582.2292\n",
      "Epoch 31/100\n",
      "531/531 [==============================] - 7s 12ms/step - loss: 237864.2717\n",
      "Epoch 32/100\n",
      "531/531 [==============================] - 7s 13ms/step - loss: 373960.0900\n",
      "Epoch 33/100\n",
      "531/531 [==============================] - 7s 12ms/step - loss: 348718.1374\n",
      "Epoch 34/100\n",
      "531/531 [==============================] - 7s 12ms/step - loss: 223558.2697\n",
      "Epoch 35/100\n",
      "531/531 [==============================] - 7s 13ms/step - loss: 239591.7976\n",
      "Epoch 36/100\n",
      "531/531 [==============================] - 7s 13ms/step - loss: 155582.2339\n",
      "Epoch 37/100\n",
      "531/531 [==============================] - 7s 12ms/step - loss: 169648.7170\n",
      "Epoch 38/100\n",
      "531/531 [==============================] - 6s 12ms/step - loss: 127716.5214\n",
      "Epoch 39/100\n",
      "531/531 [==============================] - 7s 12ms/step - loss: 103955.4361\n",
      "Epoch 40/100\n",
      "531/531 [==============================] - 7s 13ms/step - loss: 84581.3120\n",
      "Epoch 41/100\n",
      "531/531 [==============================] - 7s 12ms/step - loss: 51159.4219\n",
      "Epoch 42/100\n",
      "531/531 [==============================] - 7s 12ms/step - loss: 60970.5047\n",
      "Epoch 43/100\n",
      "531/531 [==============================] - 7s 12ms/step - loss: 20031.0587\n",
      "Epoch 44/100\n",
      "531/531 [==============================] - 7s 13ms/step - loss: 37095.0064\n",
      "Epoch 45/100\n",
      "531/531 [==============================] - 7s 13ms/step - loss: 16962.1876\n",
      "Epoch 46/100\n",
      "531/531 [==============================] - 7s 13ms/step - loss: 14686.9798\n",
      "Epoch 47/100\n",
      "531/531 [==============================] - 7s 12ms/step - loss: 11850.3271\n",
      "Epoch 48/100\n",
      "531/531 [==============================] - 6s 12ms/step - loss: 7605.3169\n",
      "Epoch 49/100\n",
      "531/531 [==============================] - 7s 12ms/step - loss: 5841.2637\n",
      "Epoch 50/100\n",
      "531/531 [==============================] - 7s 12ms/step - loss: 4939.1036\n",
      "Epoch 51/100\n",
      "531/531 [==============================] - 7s 13ms/step - loss: 2824.2482\n",
      "Epoch 52/100\n",
      "531/531 [==============================] - 7s 12ms/step - loss: 2950.6731\n",
      "Epoch 53/100\n",
      "531/531 [==============================] - 7s 12ms/step - loss: 1951.0860\n",
      "Epoch 54/100\n",
      "531/531 [==============================] - 7s 12ms/step - loss: 1460.9654\n",
      "Epoch 55/100\n",
      "531/531 [==============================] - 7s 12ms/step - loss: 971.0284\n",
      "Epoch 56/100\n",
      "531/531 [==============================] - 6s 11ms/step - loss: 860.8670\n",
      "Epoch 57/100\n",
      "531/531 [==============================] - 6s 12ms/step - loss: 551.5528\n",
      "Epoch 58/100\n",
      "531/531 [==============================] - 6s 12ms/step - loss: 83.0871\n",
      "Epoch 59/100\n",
      "531/531 [==============================] - 7s 13ms/step - loss: 401.0840\n",
      "Epoch 60/100\n",
      "531/531 [==============================] - 7s 12ms/step - loss: 34.0315\n",
      "Epoch 61/100\n",
      "531/531 [==============================] - 7s 13ms/step - loss: 110.7074\n",
      "Epoch 62/100\n",
      "531/531 [==============================] - 7s 13ms/step - loss: 76.9946\n",
      "Epoch 63/100\n",
      "531/531 [==============================] - 7s 13ms/step - loss: 112.3433\n",
      "Epoch 64/100\n",
      "531/531 [==============================] - 6s 12ms/step - loss: 377.8802\n",
      "Epoch 65/100\n",
      "531/531 [==============================] - 6s 11ms/step - loss: 5.7463\n",
      "Epoch 66/100\n",
      "531/531 [==============================] - 6s 12ms/step - loss: 6.3408\n",
      "Epoch 67/100\n",
      "531/531 [==============================] - 6s 12ms/step - loss: 16.8984\n",
      "Epoch 68/100\n",
      "531/531 [==============================] - 6s 11ms/step - loss: 20.8324\n",
      "Epoch 69/100\n",
      "531/531 [==============================] - 6s 12ms/step - loss: 44.9185\n",
      "Epoch 70/100\n",
      "531/531 [==============================] - 7s 13ms/step - loss: 3.0027\n",
      "Epoch 71/100\n",
      "531/531 [==============================] - 7s 12ms/step - loss: 12.1195\n",
      "Epoch 72/100\n",
      "531/531 [==============================] - 6s 12ms/step - loss: 8.1656\n",
      "Epoch 73/100\n",
      "531/531 [==============================] - 6s 12ms/step - loss: 41.0171\n",
      "Epoch 74/100\n",
      "531/531 [==============================] - 7s 13ms/step - loss: 1853.8841\n",
      "Epoch 75/100\n",
      "531/531 [==============================] - 6s 12ms/step - loss: 5.8959\n",
      "Epoch 76/100\n",
      "531/531 [==============================] - 6s 12ms/step - loss: 2.3737\n",
      "Epoch 77/100\n",
      "531/531 [==============================] - 7s 13ms/step - loss: 1.5066\n",
      "Epoch 78/100\n",
      "531/531 [==============================] - 7s 13ms/step - loss: 1.0965\n",
      "Epoch 79/100\n",
      "531/531 [==============================] - 7s 13ms/step - loss: 1.0889\n",
      "Epoch 80/100\n",
      "531/531 [==============================] - 7s 13ms/step - loss: 8.2296\n",
      "Epoch 81/100\n",
      "531/531 [==============================] - 7s 12ms/step - loss: 6.2405\n",
      "Epoch 82/100\n",
      "531/531 [==============================] - 7s 12ms/step - loss: 4.5192\n",
      "Epoch 83/100\n",
      "531/531 [==============================] - 7s 13ms/step - loss: 1.8786\n",
      "Epoch 84/100\n",
      "531/531 [==============================] - 7s 12ms/step - loss: 2.2730\n",
      "Epoch 85/100\n",
      "531/531 [==============================] - 7s 12ms/step - loss: 0.8700\n",
      "Epoch 86/100\n",
      "531/531 [==============================] - 7s 12ms/step - loss: 55.9501\n",
      "Epoch 87/100\n",
      "531/531 [==============================] - 7s 12ms/step - loss: 30.1327\n",
      "Epoch 88/100\n",
      "531/531 [==============================] - 6s 12ms/step - loss: 0.9843\n",
      "Epoch 89/100\n",
      "531/531 [==============================] - 6s 10ms/step - loss: 0.5942\n",
      "Epoch 90/100\n",
      "531/531 [==============================] - 6s 12ms/step - loss: 0.5899\n",
      "Epoch 91/100\n",
      "531/531 [==============================] - 6s 11ms/step - loss: 1.4866\n",
      "Epoch 92/100\n",
      "531/531 [==============================] - 5s 10ms/step - loss: 1.2655\n",
      "Epoch 93/100\n",
      "531/531 [==============================] - 6s 11ms/step - loss: 1.3656\n",
      "Epoch 94/100\n",
      "531/531 [==============================] - 6s 11ms/step - loss: 1.4736\n",
      "Epoch 95/100\n",
      "531/531 [==============================] - 6s 12ms/step - loss: 79.0197\n",
      "Epoch 96/100\n",
      "531/531 [==============================] - 6s 11ms/step - loss: 8.8208\n",
      "Epoch 97/100\n",
      "531/531 [==============================] - 6s 11ms/step - loss: 0.2089\n",
      "Epoch 98/100\n",
      "531/531 [==============================] - 6s 11ms/step - loss: 0.1404\n",
      "Epoch 99/100\n",
      "531/531 [==============================] - 6s 11ms/step - loss: 0.1114\n",
      "Epoch 100/100\n",
      "531/531 [==============================] - 7s 12ms/step - loss: 0.0952\n"
     ]
    },
    {
     "data": {
      "text/plain": [
       "<keras.callbacks.History at 0x7f3e7b458510>"
      ]
     },
     "execution_count": 63,
     "metadata": {},
     "output_type": "execute_result"
    },
    {
     "name": "stderr",
     "output_type": "stream",
     "text": [
      "2021-04-30 12:26:51.502368: I tensorflow/core/platform/cpu_feature_guard.cc:142] Your CPU supports instructions that this TensorFlow binary was not compiled to use: SSE4.1 SSE4.2 AVX AVX2 FMA\n",
      "2021-04-30 12:26:51.524087: I tensorflow/core/platform/profile_utils/cpu_utils.cc:94] CPU Frequency: 2400025000 Hz\n",
      "2021-04-30 12:26:51.525700: I tensorflow/compiler/xla/service/service.cc:168] XLA service 0x9a5ed10 executing computations on platform Host. Devices:\n",
      "2021-04-30 12:26:51.525728: I tensorflow/compiler/xla/service/service.cc:175]   StreamExecutor device (0): <undefined>, <undefined>\n",
      "2021-04-30 12:26:52.062533: W tensorflow/compiler/jit/mark_for_compilation_pass.cc:1412] (One-time warning): Not using XLA:CPU for cluster because envvar TF_XLA_FLAGS=--tf_xla_cpu_global_jit was not set.  If you want XLA:CPU, either set that envvar, or use experimental_jit_scope to enable XLA:CPU.  To confirm that XLA is active, pass --vmodule=xla_compilation_cache=1 (as a proper command-line flag, not via TF_XLA_FLAGS) or set the envvar XLA_FLAGS=--xla_hlo_profile.\n"
     ]
    }
   ],
   "source": [
    "model1.fit(Bchain_zphi1_2D, Bchain_zphi1_2D, epochs=100, verbose=True)"
   ]
  },
  {
   "cell_type": "markdown",
   "id": "fourth-creator",
   "metadata": {},
   "source": [
    "An example of a truth histogram and predicted histogram from ResNet."
   ]
  },
  {
   "cell_type": "code",
   "execution_count": 78,
   "id": "executed-special",
   "metadata": {},
   "outputs": [
    {
     "data": {
      "text/plain": [
       "Text(0.5, 1.0, 'Predicted histogram')"
      ]
     },
     "execution_count": 78,
     "metadata": {},
     "output_type": "execute_result"
    },
    {
     "data": {
      "image/png": "[encoded data removed]",
      "text/plain": [
       "<Figure size 432x288 with 2 Axes>"
      ]
     },
     "metadata": {
      "needs_background": "light"
     },
     "output_type": "display_data"
    }
   ],
   "source": [
    "plt.subplot(1, 2, 1)\n",
    "plt.imshow(np.reshape(Bchain_zphi1_2D[10], (40, 28)))\n",
    "plt.title(\"Truth histogram\")\n",
    "plt.subplot(1, 2, 2)\n",
    "plt.imshow(np.reshape(model1.predict(np.reshape(Bchain_zphi1_2D[10], (1, 40, 28, 1))), (40, 28)))\n",
    "plt.title(\"Predicted histogram\")"
   ]
  },
  {
   "cell_type": "code",
   "execution_count": null,
   "id": "diverse-montreal",
   "metadata": {},
   "outputs": [],
   "source": []
  }
 ],
 "metadata": {
  "kernelspec": {
   "display_name": "Python 3",
   "language": "python",
   "name": "python3"
  },
  "language_info": {
   "codemirror_mode": {
    "name": "ipython",
    "version": 3
   },
   "file_extension": ".py",
   "mimetype": "text/x-python",
   "name": "python",
   "nbconvert_exporter": "python",
   "pygments_lexer": "ipython3",
   "version": "3.7.6"
  }
 },
 "nbformat": 4,
 "nbformat_minor": 5
}
